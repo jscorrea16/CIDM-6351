{
  "nbformat": 4,
  "nbformat_minor": 0,
  "metadata": {
    "colab": {
      "provenance": [],
      "include_colab_link": true
    },
    "kernelspec": {
      "name": "python3",
      "display_name": "Python 3"
    }
  },
  "cells": [
    {
      "cell_type": "markdown",
      "metadata": {
        "id": "view-in-github",
        "colab_type": "text"
      },
      "source": [
        "<a href=\"https://colab.research.google.com/github/jscorrea16/CIDM-6351/blob/main/Joshua_Correa_CIDM6351_Homework_2_Instructions.ipynb\" target=\"_parent\"><img src=\"https://colab.research.google.com/assets/colab-badge.svg\" alt=\"Open In Colab\"/></a>"
      ]
    },
    {
      "cell_type": "markdown",
      "metadata": {
        "id": "lJURtoBh4mQu"
      },
      "source": [
        "<h1  align=\"center\">CIDM6351: Homework 2 Instructions. Importing and Cleaning Data</h1>\n",
        "\n",
        "* Watch: Dr. Humpherys explains homework 2 video (5 mins) https://www.screencast.com/t/9tIllQJD8Hv  \n",
        "* **Save a copy to your Google Drive and answer the questions on your copy**\n",
        "* **Change the share to \"Anyone with link\" so the professor can view your code**\n",
        "* **Submit the share link of your Colab Notebook to WTClass**\n",
        "* This assignment is open notes/Internet/Datacamp but you can only consult with a CIS tutors or the professor.\n",
        "- Students should complete this assignment **individually.** If you need help, contact a CIS tutor or the professor.\n",
        "- Submit the URL to your Google Colab notebook to \\\\Wtclass\\cidm6351\\Week 6\\Turn in Homework 2\\"
      ]
    },
    {
      "cell_type": "markdown",
      "source": [
        "### Scenario: You are a data engineer for a large ice cream manufacturing company. Company stake holders want to know which ice cream flavors to diversity into. You need to gather and prepare some data on the favorite types of ice cream. You find some survey data on this topic. You will import the data, perform some cleaning tasks, and create a simple bar chart of the most popular ice cream flavors and the percentage of adults who like those flavors. ###\n",
        "Original data comes from https://fox8.com/news/the-21-most-popular-ice-cream-flavors-in-america/"
      ],
      "metadata": {
        "id": "9aLy96WuuB1N"
      }
    },
    {
      "cell_type": "markdown",
      "source": [
        "###Data Dictionary: ###  \n",
        "Both data files have the following fields/columns.\n",
        "\n",
        "Ice_Cream_Flavor : <str> The name of the ice cream.  \n",
        "Like_It_Percentage : <str> The percetage of adults surveyed who like that particular ice cream flavor.  \n",
        "Favorite_Percentage : <str> The percentage of adults surveyed who say that flavor is their favorite.  "
      ],
      "metadata": {
        "id": "vYNljP3wu-0r"
      }
    },
    {
      "cell_type": "markdown",
      "metadata": {
        "id": "oHX6cXOpqYxS"
      },
      "source": [
        "# Question 1 (30%): Importing data with Pandas"
      ]
    },
    {
      "cell_type": "code",
      "metadata": {
        "id": "IRqyECpiq9kL"
      },
      "source": [
        "# Run this cell\n",
        "# Dr. Humpherys provides you the URLs to the data files you need.\n",
        "ice_cream_part_one_url = 'https://raw.githubusercontent.com/sean-humpherys/randomfilestorage/main/ice_cream_part_one.csv'\n",
        "ice_cream_part_two_url = 'https://raw.githubusercontent.com/sean-humpherys/randomfilestorage/main/ice_cream_part_two.json'"
      ],
      "execution_count": null,
      "outputs": []
    },
    {
      "cell_type": "markdown",
      "source": [
        "### Q1.1 (5%) Import the pandas library as pd"
      ],
      "metadata": {
        "id": "2zV5pjm-gpGy"
      }
    },
    {
      "cell_type": "code",
      "source": [
        "# --- put your answer below ---\n",
        "import pandas as pd\n",
        "from urllib.request import urlretrieve\n",
        "import numpy as np\n",
        "from matplotlib import pyplot as plt"
      ],
      "metadata": {
        "id": "sqmbHp_ZgkZK"
      },
      "execution_count": null,
      "outputs": []
    },
    {
      "cell_type": "markdown",
      "metadata": {
        "id": "eGikJ1sS8kt3"
      },
      "source": [
        "### Q1.2  (5%) Load the data stored in ```ice_cream_part_one.csv``` into Pandas DataFrames. No need to print the data yet."
      ]
    },
    {
      "cell_type": "code",
      "metadata": {
        "id": "CNunFdHOrRIY"
      },
      "source": [
        "# --- put your answer below ---\n",
        "# Read in the Ice Cream Part One Data\n",
        "\n",
        "url = 'https://raw.githubusercontent.com/sean-humpherys/randomfilestorage/main/ice_cream_part_one.csv'\n",
        "#urlretrieve(url, 'ice_cream_part_one.csv')\n",
        "df1 = pd.read_csv(url)"
      ],
      "execution_count": null,
      "outputs": []
    },
    {
      "cell_type": "markdown",
      "metadata": {
        "id": "EJ6zZrlJhqvK"
      },
      "source": [
        "### Q1.3  (5%) Load the data stored in ```ice_cream_part_two.json``` into Pandas DataFrames. No need to print the data yet."
      ]
    },
    {
      "cell_type": "code",
      "source": [
        "# --- put your answer below ---\n",
        "# Read in the Ice Cream Part Two Data\n",
        "\n",
        "url = 'https://raw.githubusercontent.com/sean-humpherys/randomfilestorage/main/ice_cream_part_two.json'\n",
        "df2 = pd.read_json(url)"
      ],
      "metadata": {
        "id": "ZBFyykqyhzZS"
      },
      "execution_count": null,
      "outputs": []
    },
    {
      "cell_type": "markdown",
      "metadata": {
        "id": "BFj9lo7vsWXX"
      },
      "source": [
        "### 1.4  (5%) Print the information or head of both dataframes, respectively"
      ]
    },
    {
      "cell_type": "code",
      "source": [
        "# ---put your answer below---\n",
        "print(df1.head())"
      ],
      "metadata": {
        "id": "jGyiHjPChUcp",
        "colab": {
          "base_uri": "https://localhost:8080/"
        },
        "outputId": "c4f8f5ed-9553-4d3e-930c-dee2ab38855d"
      },
      "execution_count": null,
      "outputs": [
        {
          "output_type": "stream",
          "name": "stdout",
          "text": [
            "  Ice_Cream_Flavor Like_It_Percentage Favorite_Percentage\n",
            "0            peach                22%                  1%\n",
            "1     butterscotch                16%                  1%\n",
            "2   chocolate chip                39%                  2%\n",
            "3        chocolate                51%                 10%\n",
            "4          vanilla                59%                 11%\n"
          ]
        }
      ]
    },
    {
      "cell_type": "code",
      "source": [
        "print(df2.head())"
      ],
      "metadata": {
        "colab": {
          "base_uri": "https://localhost:8080/"
        },
        "id": "EkXPPePjYkjz",
        "outputId": "b53afefb-a49a-466f-edfc-0663d74788c1"
      },
      "execution_count": null,
      "outputs": [
        {
          "output_type": "stream",
          "name": "stdout",
          "text": [
            "          Ice_Cream_Flavor Like_It_Percentage Favorite_Percentage\n",
            "0               strawberry                43%                  6%\n",
            "1  chocolate peanut butter                26%                  5%\n",
            "2             butter pecan                35%                  8%\n",
            "3        cookies and cream                43%                  7%\n",
            "4      mint chocolate chip                33%                  9%\n"
          ]
        }
      ]
    },
    {
      "cell_type": "markdown",
      "metadata": {
        "id": "8mBPUYmluWje"
      },
      "source": [
        "### 1.5  (5%) Combine the two dataframes into one panda dataframe called \"ice_cream\". ###\n",
        "If you need a hint, search on Google \"combine two pandas dataframes\", \"join two pandas dataframes\", or \"concatenate pandas dataframe\". Searching with the correct phrase is a useful data engineering technique."
      ]
    },
    {
      "cell_type": "code",
      "source": [
        "# ---put your answer below ---\n",
        "\n",
        "ice_cream = [df1, df2]\n",
        "ice_cream_result = pd.concat(ice_cream)\n",
        "print(ice_cream_result)"
      ],
      "metadata": {
        "id": "AsN8yKvWh_ga",
        "colab": {
          "base_uri": "https://localhost:8080/"
        },
        "outputId": "a197da2a-02b7-4b2e-d38f-36a9af8810b9"
      },
      "execution_count": null,
      "outputs": [
        {
          "output_type": "stream",
          "name": "stdout",
          "text": [
            "               Ice_Cream_Flavor Like_It_Percentage Favorite_Percentage\n",
            "0                         peach                22%                  1%\n",
            "1                  butterscotch                16%                  1%\n",
            "2                chocolate chip                39%                  2%\n",
            "3                     chocolate                51%                 10%\n",
            "4                       vanilla                59%                 11%\n",
            "5                        coffee                23%                  5%\n",
            "6                       caramel                33%                  3%\n",
            "7                 peanut butter                21%                  2%\n",
            "8                    neopolitan                30%                  2%\n",
            "9                        cherry                23%                  2%\n",
            "10  chocolate chip cookie dough                34%                  6%\n",
            "11                birthday cake                20%                  2%\n",
            "12                    raspberry                18%                  1%\n",
            "13                  cake batter                15%                  1%\n",
            "14                   rocky road                29%                  4%\n",
            "15                    pistachio                23%                  4%\n",
            "16                     jalapeno                NaN                    \n",
            "0                    strawberry                43%                  6%\n",
            "1       chocolate peanut butter                26%                  5%\n",
            "2                  butter pecan                35%                  8%\n",
            "3             cookies and cream                43%                  7%\n",
            "4           mint chocolate chip                33%                  9%\n"
          ]
        }
      ]
    },
    {
      "cell_type": "markdown",
      "source": [
        "### 1.6  (5%) Print the contents of the ice_cream dataframe. ###"
      ],
      "metadata": {
        "id": "s__qzS_XkHi2"
      }
    },
    {
      "cell_type": "code",
      "source": [
        "# ---put your answer below ---\n",
        "print(ice_cream_result)"
      ],
      "metadata": {
        "id": "_-la7OV1kdA2",
        "colab": {
          "base_uri": "https://localhost:8080/"
        },
        "outputId": "14bf9f3a-da3e-4bfc-c2f4-7b55c986f566"
      },
      "execution_count": null,
      "outputs": [
        {
          "output_type": "stream",
          "name": "stdout",
          "text": [
            "               Ice_Cream_Flavor Like_It_Percentage Favorite_Percentage\n",
            "0                         peach                22%                  1%\n",
            "1                  butterscotch                16%                  1%\n",
            "2                chocolate chip                39%                  2%\n",
            "3                     chocolate                51%                 10%\n",
            "4                       vanilla                59%                 11%\n",
            "5                        coffee                23%                  5%\n",
            "6                       caramel                33%                  3%\n",
            "7                 peanut butter                21%                  2%\n",
            "8                    neopolitan                30%                  2%\n",
            "9                        cherry                23%                  2%\n",
            "10  chocolate chip cookie dough                34%                  6%\n",
            "11                birthday cake                20%                  2%\n",
            "12                    raspberry                18%                  1%\n",
            "13                  cake batter                15%                  1%\n",
            "14                   rocky road                29%                  4%\n",
            "15                    pistachio                23%                  4%\n",
            "16                     jalapeno                NaN                    \n",
            "0                    strawberry                43%                  6%\n",
            "1       chocolate peanut butter                26%                  5%\n",
            "2                  butter pecan                35%                  8%\n",
            "3             cookies and cream                43%                  7%\n",
            "4           mint chocolate chip                33%                  9%\n"
          ]
        }
      ]
    },
    {
      "cell_type": "markdown",
      "source": [
        "# Question Two. (50%) Clean the data in preparation for data analysis. #\n"
      ],
      "metadata": {
        "id": "eMjvcheRmA8V"
      }
    },
    {
      "cell_type": "markdown",
      "source": [
        "### Q2.1 (10%) Remove missing data. Notice the row on Jalapeno ice cream does not have like it percentage or favorite percentage. Remove any row with missing data.###\n",
        "This was not taught yet in Datacamp. However, as a data engineer you will find yourself needing to learn how to do tasks not previously learned before. Consider searching Google for \"pandas remove missing values\" or \"pandas remove blank rows\"."
      ],
      "metadata": {
        "id": "4sM3CCG7kjvF"
      }
    },
    {
      "cell_type": "code",
      "source": [
        "# --- put your answer below ---\n",
        "#ice_cream_result.columns.values\n",
        "ice_cream_result['Ice_Cream_Flavor'] = ice_cream_result['Ice_Cream_Flavor'].str.replace(\"jalapeno\", '', regex = True)\n",
        "ice_cream_result.dropna(inplace = True)"
      ],
      "metadata": {
        "id": "ZRZ9CwSGk6RW"
      },
      "execution_count": null,
      "outputs": []
    },
    {
      "cell_type": "markdown",
      "source": [
        "### Q2.2 (10%) Capitalize all the ice cream flavor names. Each word should start with a capital letter, e.g. \"rocky road\" should become \"Rocky Road\". Print the contents of the Ice_Cream_Flavors column to show you were successful.###\n",
        "This was not taught in Datacamp. However, as a data engineer you will find yourself needing to learn how to do tasks not previously learned before. Consider searching Google for \"how to capitalize first letter in a word in pandas dataframe\" or \"capitalize first letter of each word in pandas\"."
      ],
      "metadata": {
        "id": "Icu2o2hBlB4d"
      }
    },
    {
      "cell_type": "code",
      "source": [
        "# --- put your answer below ---\n",
        "ice_cream_result['Ice_Cream_Flavor'] = ice_cream_result['Ice_Cream_Flavor'].str.title()\n",
        "print(ice_cream_result)\n"
      ],
      "metadata": {
        "id": "qa4Mwkk9l7j2",
        "colab": {
          "base_uri": "https://localhost:8080/"
        },
        "outputId": "a266a0c1-51b7-47d1-cf82-4ffa4da50033"
      },
      "execution_count": null,
      "outputs": [
        {
          "output_type": "stream",
          "name": "stdout",
          "text": [
            "               Ice_Cream_Flavor Like_It_Percentage Favorite_Percentage\n",
            "0                         Peach                22%                  1%\n",
            "1                  Butterscotch                16%                  1%\n",
            "2                Chocolate Chip                39%                  2%\n",
            "3                     Chocolate                51%                 10%\n",
            "4                       Vanilla                59%                 11%\n",
            "5                        Coffee                23%                  5%\n",
            "6                       Caramel                33%                  3%\n",
            "7                 Peanut Butter                21%                  2%\n",
            "8                    Neopolitan                30%                  2%\n",
            "9                        Cherry                23%                  2%\n",
            "10  Chocolate Chip Cookie Dough                34%                  6%\n",
            "11                Birthday Cake                20%                  2%\n",
            "12                    Raspberry                18%                  1%\n",
            "13                  Cake Batter                15%                  1%\n",
            "14                   Rocky Road                29%                  4%\n",
            "15                    Pistachio                23%                  4%\n",
            "0                    Strawberry                43%                  6%\n",
            "1       Chocolate Peanut Butter                26%                  5%\n",
            "2                  Butter Pecan                35%                  8%\n",
            "3             Cookies And Cream                43%                  7%\n",
            "4           Mint Chocolate Chip                33%                  9%\n"
          ]
        }
      ]
    },
    {
      "cell_type": "markdown",
      "source": [
        "### Q2.3 (10%) Remove the % character from the values in \"Like_It_Percentage\" and \"Favorite_Percentage\". And, print the contents of the dataframe to show you were successful.###\n",
        "For example, the value 35% becomes just 35. We don't need the % character. We just want the integers. Consider searching Google for \"how to remove the last character from pandas column\"."
      ],
      "metadata": {
        "id": "XwHMqqNinT0D"
      }
    },
    {
      "cell_type": "code",
      "source": [
        "# --- put your answer below ---\n",
        "ice_cream_result['Like_It_Percentage'] = ice_cream_result['Like_It_Percentage'].str.replace(\"%\", '', regex = True)\n",
        "ice_cream_result['Favorite_Percentage'] = ice_cream_result['Favorite_Percentage'].str.replace(\"%\", '', regex = True)\n",
        "print(ice_cream_result)"
      ],
      "metadata": {
        "id": "Mb3VEQbKoGQx",
        "colab": {
          "base_uri": "https://localhost:8080/"
        },
        "outputId": "937dabb8-78a0-4ee8-b924-cd86bf4dbdd3"
      },
      "execution_count": null,
      "outputs": [
        {
          "output_type": "stream",
          "name": "stdout",
          "text": [
            "               Ice_Cream_Flavor Like_It_Percentage Favorite_Percentage\n",
            "0                         Peach                 22                   1\n",
            "1                  Butterscotch                 16                   1\n",
            "2                Chocolate Chip                 39                   2\n",
            "3                     Chocolate                 51                  10\n",
            "4                       Vanilla                 59                  11\n",
            "5                        Coffee                 23                   5\n",
            "6                       Caramel                 33                   3\n",
            "7                 Peanut Butter                 21                   2\n",
            "8                    Neopolitan                 30                   2\n",
            "9                        Cherry                 23                   2\n",
            "10  Chocolate Chip Cookie Dough                 34                   6\n",
            "11                Birthday Cake                 20                   2\n",
            "12                    Raspberry                 18                   1\n",
            "13                  Cake Batter                 15                   1\n",
            "14                   Rocky Road                 29                   4\n",
            "15                    Pistachio                 23                   4\n",
            "0                    Strawberry                 43                   6\n",
            "1       Chocolate Peanut Butter                 26                   5\n",
            "2                  Butter Pecan                 35                   8\n",
            "3             Cookies And Cream                 43                   7\n",
            "4           Mint Chocolate Chip                 33                   9\n"
          ]
        }
      ]
    },
    {
      "cell_type": "markdown",
      "source": [
        "### Q2.4 (10%) List the data so we know the most favorite to least faavorite ice cream flavors. Sort the data based by the highest liked percentage to the lowest liked percentage. If there is a tie, secondarily sort by those who say the ice cream is their favorite. Print the sorted dataframe.###"
      ],
      "metadata": {
        "id": "N_NG3Gyhp0gu"
      }
    },
    {
      "cell_type": "code",
      "source": [
        "# --- put your answer below ---\n",
        "print(ice_cream_result.sort_values(by=['Like_It_Percentage', 'Favorite_Percentage'], ascending = False))\n"
      ],
      "metadata": {
        "id": "1ZMOvLkzqZu5",
        "colab": {
          "base_uri": "https://localhost:8080/"
        },
        "outputId": "3b1bbc62-77d4-49fd-c879-a290da3df739"
      },
      "execution_count": null,
      "outputs": [
        {
          "output_type": "stream",
          "name": "stdout",
          "text": [
            "               Ice_Cream_Flavor Like_It_Percentage Favorite_Percentage\n",
            "4                       Vanilla                 59                  11\n",
            "3                     Chocolate                 51                  10\n",
            "3             Cookies And Cream                 43                   7\n",
            "0                    Strawberry                 43                   6\n",
            "2                Chocolate Chip                 39                   2\n",
            "2                  Butter Pecan                 35                   8\n",
            "10  Chocolate Chip Cookie Dough                 34                   6\n",
            "4           Mint Chocolate Chip                 33                   9\n",
            "6                       Caramel                 33                   3\n",
            "8                    Neopolitan                 30                   2\n",
            "14                   Rocky Road                 29                   4\n",
            "1       Chocolate Peanut Butter                 26                   5\n",
            "5                        Coffee                 23                   5\n",
            "15                    Pistachio                 23                   4\n",
            "9                        Cherry                 23                   2\n",
            "0                         Peach                 22                   1\n",
            "7                 Peanut Butter                 21                   2\n",
            "11                Birthday Cake                 20                   2\n",
            "12                    Raspberry                 18                   1\n",
            "1                  Butterscotch                 16                   1\n",
            "13                  Cake Batter                 15                   1\n"
          ]
        }
      ]
    },
    {
      "cell_type": "markdown",
      "source": [
        "### Q2.5 (10%) Filter out any ice cream flavors with a like it percentage less than 20%, keep those with a value of 20% and above. Store the new dataset in a dataframe called \"top_ice_creams\". Print the new dataframe.##"
      ],
      "metadata": {
        "id": "-XFEilnCqmU3"
      }
    },
    {
      "cell_type": "code",
      "source": [
        "# --- put your answer below ---\n",
        "ice_cream_result['Like_It_Percentage'] = ice_cream_result['Like_It_Percentage'].astype(int)\n",
        "top_ice_creams = ice_cream_result.query('Like_It_Percentage > 20')\n",
        "print(top_ice_creams)"
      ],
      "metadata": {
        "id": "rC5H1mbZq4Rd",
        "colab": {
          "base_uri": "https://localhost:8080/"
        },
        "outputId": "501b2ad8-263b-46ba-a3e5-a48f515b509d"
      },
      "execution_count": null,
      "outputs": [
        {
          "output_type": "stream",
          "name": "stdout",
          "text": [
            "               Ice_Cream_Flavor  Like_It_Percentage Favorite_Percentage\n",
            "0                         Peach                  22                   1\n",
            "2                Chocolate Chip                  39                   2\n",
            "3                     Chocolate                  51                  10\n",
            "4                       Vanilla                  59                  11\n",
            "5                        Coffee                  23                   5\n",
            "6                       Caramel                  33                   3\n",
            "7                 Peanut Butter                  21                   2\n",
            "8                    Neopolitan                  30                   2\n",
            "9                        Cherry                  23                   2\n",
            "10  Chocolate Chip Cookie Dough                  34                   6\n",
            "14                   Rocky Road                  29                   4\n",
            "15                    Pistachio                  23                   4\n",
            "0                    Strawberry                  43                   6\n",
            "1       Chocolate Peanut Butter                  26                   5\n",
            "2                  Butter Pecan                  35                   8\n",
            "3             Cookies And Cream                  43                   7\n",
            "4           Mint Chocolate Chip                  33                   9\n"
          ]
        }
      ]
    },
    {
      "cell_type": "markdown",
      "metadata": {
        "id": "BgS7mdxr2-Ps"
      },
      "source": [
        "# Question Three (20%) #\n",
        "###Create a simple bar graph of the top 20 ice cream flavors. Put the ice cream flavors on the x-axis and the like it percentage on the y-axis. Show the bar graph.###\n",
        "Consider searching Google with \"pandas bar chart\" or \"pandas plot\".\n"
      ]
    },
    {
      "cell_type": "code",
      "source": [
        "# -- put your answer below ---\n",
        "top_ice_creams.plot.bar('Ice_Cream_Flavor', 'Like_It_Percentage')\n",
        "plt.xlabel('Ice Cream Flavor')\n",
        "plt.ylabel('Like It Percentage')\n",
        "plt.show\n"
      ],
      "metadata": {
        "id": "vU68YvCLslmT",
        "colab": {
          "base_uri": "https://localhost:8080/",
          "height": 659
        },
        "outputId": "916b1606-47df-4feb-f732-5ec78681701b"
      },
      "execution_count": null,
      "outputs": [
        {
          "output_type": "execute_result",
          "data": {
            "text/plain": [
              "<function matplotlib.pyplot.show(close=None, block=None)>"
            ]
          },
          "metadata": {},
          "execution_count": 14
        },
        {
          "output_type": "display_data",
          "data": {
            "text/plain": [
              "<Figure size 640x480 with 1 Axes>"
            ],
            "image/png": "[encoded data removed]"
          },
          "metadata": {}
        }
      ]
    },
    {
      "cell_type": "markdown",
      "source": [
        "### The End. Congrats on importing and cleaning data, with a simple data visualization at the end. ###\n",
        "If you need help, reach out to the CIS tutors or the professor."
      ],
      "metadata": {
        "id": "LVH4czhasppO"
      }
    }
  ]
}